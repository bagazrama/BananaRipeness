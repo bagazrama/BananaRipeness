{
  "cells": [
    {
      "cell_type": "code",
      "execution_count": 134,
      "metadata": {
        "id": "ww_ykBBvv4p5"
      },
      "outputs": [],
      "source": [
        "# Import module yang akan digunakan\n",
        "import pandas as pd  \n",
        "from sklearn.neighbors import KNeighborsClassifier\n",
        "from sklearn import metrics\n",
        "from sklearn.model_selection import train_test_split\n",
        "from sklearn.metrics import f1_score, precision_score, recall_score \n",
        "from sklearn.metrics import confusion_matrix\n",
        "import seaborn as sns\n",
        "from warnings import simplefilter\n",
        "# ignore all future warnings\n",
        "simplefilter(action='ignore', category=FutureWarning)"
      ]
    },
    {
      "cell_type": "code",
      "execution_count": 135,
      "metadata": {
        "id": "Phaq5jHywFnQ"
      },
      "outputs": [],
      "source": [
        "# Load dataset\n",
        "dataset = pd.read_csv('csv/gabungan.csv')"
      ]
    },
    {
      "cell_type": "code",
      "execution_count": 136,
      "metadata": {
        "id": "UICdEv_awf4Y"
      },
      "outputs": [],
      "source": [
        "# Membagi data training dan testing\n",
        "X = dataset.drop('kelas', axis=1)  \n",
        "Y = dataset['kelas']\n",
        "X_train, X_test, Y_train, Y_test = train_test_split(X, Y, test_size = 0.40)"
      ]
    },
    {
      "cell_type": "code",
      "execution_count": 137,
      "metadata": {
        "id": "-OgXgvVXwGB1"
      },
      "outputs": [],
      "source": [
        "# Inisiasi jumlah k pada kNN\n",
        "knn3 = KNeighborsClassifier(n_neighbors=3)\n",
        "knn5 = KNeighborsClassifier(n_neighbors=5)\n",
        "knn7 = KNeighborsClassifier(n_neighbors=7)"
      ]
    },
    {
      "cell_type": "code",
      "execution_count": 138,
      "metadata": {
        "id": "HBmmRTqiwY95"
      },
      "outputs": [],
      "source": [
        "# Train model menggunakan data training\n",
        "knn3.fit(X_train, Y_train)\n",
        "\n",
        "# Melakukan prediksi / klasifikasi\n",
        "Y_pred = knn3.predict(X_test)"
      ]
    },
    {
      "cell_type": "code",
      "execution_count": 139,
      "metadata": {
        "id": "fCbDUly6w3JC"
      },
      "outputs": [],
      "source": [
        "# Train model menggunakan data training\n",
        "knn5.fit(X_train, y=Y_train)\n",
        "\n",
        "# Melakukan prediksi / klasifikasi\n",
        "Y_pred = knn5.predict(X_test)"
      ]
    },
    {
      "cell_type": "code",
      "execution_count": 140,
      "metadata": {
        "id": "DJohH4RexLrz"
      },
      "outputs": [],
      "source": [
        "# Train model menggunakan data training\n",
        "knn7.fit(X_train, Y_train)\n",
        "\n",
        "# Melakukan prediksi / klasifikasi\n",
        "Y_pred = knn7.predict(X_test)"
      ]
    },
    {
      "cell_type": "code",
      "execution_count": 141,
      "metadata": {
        "colab": {
          "base_uri": "https://localhost:8080/"
        },
        "id": "7ty3C0AoeRUV",
        "outputId": "27817885-6dae-4e84-b4ed-7bd563702077"
      },
      "outputs": [
        {
          "data": {
            "text/plain": [
              "1102    unripe\n",
              "802     unripe\n",
              "320       ripe\n",
              "96        ripe\n",
              "914     unripe\n",
              "         ...  \n",
              "916     unripe\n",
              "280       ripe\n",
              "1201    unripe\n",
              "508       ripe\n",
              "1283    unripe\n",
              "Name: kelas, Length: 398, dtype: object"
            ]
          },
          "execution_count": 141,
          "metadata": {},
          "output_type": "execute_result"
        }
      ],
      "source": [
        "Y_test"
      ]
    },
    {
      "cell_type": "code",
      "execution_count": 142,
      "metadata": {
        "colab": {
          "base_uri": "https://localhost:8080/"
        },
        "id": "Sokw1SsgeSoO",
        "outputId": "4fb433db-53ae-4349-89cb-aae3a54585ee"
      },
      "outputs": [
        {
          "data": {
            "text/plain": [
              "array(['unripe', 'unripe', 'ripe', 'ripe', 'unripe', 'ripe', 'unripe',\n",
              "       'unripe', 'unripe', 'ripe', 'unripe', 'unripe', 'ripe', 'unripe',\n",
              "       'unripe', 'unripe', 'unripe', 'ripe', 'ripe', 'ripe', 'ripe',\n",
              "       'ripe', 'unripe', 'unripe', 'unripe', 'ripe', 'ripe', 'ripe',\n",
              "       'unripe', 'ripe', 'ripe', 'ripe', 'ripe', 'ripe', 'unripe', 'ripe',\n",
              "       'unripe', 'ripe', 'unripe', 'unripe', 'unripe', 'unripe', 'ripe',\n",
              "       'unripe', 'ripe', 'ripe', 'unripe', 'unripe', 'ripe', 'unripe',\n",
              "       'unripe', 'ripe', 'ripe', 'ripe', 'ripe', 'ripe', 'unripe', 'ripe',\n",
              "       'ripe', 'ripe', 'ripe', 'ripe', 'ripe', 'unripe', 'unripe', 'ripe',\n",
              "       'unripe', 'unripe', 'unripe', 'unripe', 'ripe', 'ripe', 'ripe',\n",
              "       'ripe', 'ripe', 'ripe', 'ripe', 'ripe', 'ripe', 'ripe', 'ripe',\n",
              "       'ripe', 'unripe', 'ripe', 'unripe', 'unripe', 'ripe', 'unripe',\n",
              "       'unripe', 'unripe', 'unripe', 'unripe', 'ripe', 'unripe', 'ripe',\n",
              "       'unripe', 'ripe', 'ripe', 'unripe', 'ripe', 'unripe', 'unripe',\n",
              "       'unripe', 'unripe', 'unripe', 'unripe', 'unripe', 'unripe', 'ripe',\n",
              "       'unripe', 'unripe', 'ripe', 'ripe', 'ripe', 'ripe', 'unripe',\n",
              "       'unripe', 'ripe', 'ripe', 'ripe', 'ripe', 'unripe', 'ripe',\n",
              "       'unripe', 'unripe', 'ripe', 'unripe', 'unripe', 'ripe', 'ripe',\n",
              "       'ripe', 'unripe', 'ripe', 'unripe', 'unripe', 'ripe', 'unripe',\n",
              "       'ripe', 'ripe', 'ripe', 'ripe', 'unripe', 'ripe', 'ripe', 'unripe',\n",
              "       'ripe', 'unripe', 'unripe', 'ripe', 'ripe', 'unripe', 'ripe',\n",
              "       'ripe', 'ripe', 'ripe', 'ripe', 'unripe', 'unripe', 'unripe',\n",
              "       'unripe', 'ripe', 'unripe', 'unripe', 'unripe', 'unripe', 'ripe',\n",
              "       'unripe', 'ripe', 'unripe', 'unripe', 'ripe', 'ripe', 'ripe',\n",
              "       'ripe', 'ripe', 'unripe', 'unripe', 'ripe', 'ripe', 'ripe',\n",
              "       'unripe', 'ripe', 'unripe', 'unripe', 'unripe', 'unripe', 'unripe',\n",
              "       'ripe', 'ripe', 'ripe', 'unripe', 'ripe', 'ripe', 'ripe', 'ripe',\n",
              "       'ripe', 'unripe', 'ripe', 'ripe', 'unripe', 'unripe', 'unripe',\n",
              "       'ripe', 'unripe', 'unripe', 'unripe', 'unripe', 'ripe', 'ripe',\n",
              "       'unripe', 'ripe', 'unripe', 'ripe', 'unripe', 'ripe', 'unripe',\n",
              "       'ripe', 'ripe', 'ripe', 'unripe', 'unripe', 'ripe', 'unripe',\n",
              "       'unripe', 'unripe', 'ripe', 'unripe', 'unripe', 'ripe', 'unripe',\n",
              "       'ripe', 'ripe', 'unripe', 'ripe', 'unripe', 'unripe', 'ripe',\n",
              "       'unripe', 'unripe', 'unripe', 'ripe', 'unripe', 'unripe', 'ripe',\n",
              "       'unripe', 'ripe', 'unripe', 'ripe', 'ripe', 'ripe', 'ripe', 'ripe',\n",
              "       'unripe', 'ripe', 'ripe', 'unripe', 'unripe', 'ripe', 'ripe',\n",
              "       'unripe', 'ripe', 'unripe', 'unripe', 'ripe', 'unripe', 'ripe',\n",
              "       'unripe', 'ripe', 'unripe', 'ripe', 'unripe', 'unripe', 'ripe',\n",
              "       'unripe', 'unripe', 'ripe', 'ripe', 'unripe', 'ripe', 'ripe',\n",
              "       'ripe', 'ripe', 'ripe', 'unripe', 'ripe', 'unripe', 'ripe',\n",
              "       'unripe', 'unripe', 'ripe', 'unripe', 'unripe', 'unripe', 'unripe',\n",
              "       'unripe', 'ripe', 'ripe', 'ripe', 'ripe', 'unripe', 'ripe', 'ripe',\n",
              "       'unripe', 'unripe', 'ripe', 'ripe', 'unripe', 'ripe', 'ripe',\n",
              "       'unripe', 'ripe', 'ripe', 'unripe', 'ripe', 'unripe', 'ripe',\n",
              "       'ripe', 'ripe', 'ripe', 'ripe', 'unripe', 'ripe', 'ripe', 'unripe',\n",
              "       'unripe', 'ripe', 'unripe', 'ripe', 'ripe', 'ripe', 'unripe',\n",
              "       'unripe', 'unripe', 'unripe', 'ripe', 'ripe', 'ripe', 'unripe',\n",
              "       'ripe', 'unripe', 'ripe', 'unripe', 'unripe', 'ripe', 'unripe',\n",
              "       'unripe', 'ripe', 'ripe', 'ripe', 'ripe', 'ripe', 'ripe', 'ripe',\n",
              "       'unripe', 'ripe', 'ripe', 'unripe', 'ripe', 'ripe', 'ripe',\n",
              "       'unripe', 'ripe', 'unripe', 'ripe', 'unripe', 'ripe', 'unripe',\n",
              "       'unripe', 'unripe', 'unripe', 'ripe', 'ripe', 'ripe', 'unripe',\n",
              "       'unripe', 'unripe', 'ripe', 'unripe', 'unripe', 'ripe', 'ripe',\n",
              "       'unripe', 'unripe', 'ripe', 'ripe', 'ripe', 'unripe', 'ripe',\n",
              "       'ripe', 'ripe', 'unripe', 'unripe', 'ripe', 'unripe', 'ripe',\n",
              "       'unripe', 'ripe', 'unripe'], dtype=object)"
            ]
          },
          "execution_count": 142,
          "metadata": {},
          "output_type": "execute_result"
        }
      ],
      "source": [
        "Y_pred"
      ]
    },
    {
      "cell_type": "code",
      "execution_count": 143,
      "metadata": {
        "colab": {
          "base_uri": "https://localhost:8080/",
          "height": 282
        },
        "id": "IuzSEqZnuYoL",
        "outputId": "4a0f5840-4faa-40b8-b918-37ac415e16c8"
      },
      "outputs": [
        {
          "data": {
            "text/plain": [
              "<Axes: >"
            ]
          },
          "execution_count": 143,
          "metadata": {},
          "output_type": "execute_result"
        },
        {
          "data": {
            "image/png": "[encoded data removed]",
            "text/plain": [
              "<Figure size 640x480 with 2 Axes>"
            ]
          },
          "metadata": {},
          "output_type": "display_data"
        }
      ],
      "source": [
        "cf_matrix = confusion_matrix(Y_test, Y_pred)\n",
        "sns.heatmap(cf_matrix, annot=True)"
      ]
    },
    {
      "cell_type": "code",
      "execution_count": 144,
      "metadata": {
        "colab": {
          "base_uri": "https://localhost:8080/"
        },
        "id": "jTeSDorCxJXJ",
        "outputId": "ce7ae31d-ef4f-4e93-d092-c87de2382b4a"
      },
      "outputs": [
        {
          "name": "stdout",
          "output_type": "stream",
          "text": [
            "Recall:  98.1 %\n",
            "Precision:  98.6 %\n",
            "F1-Score:  98.3 %\n",
            "Accuracy: 98.2 %\n"
          ]
        }
      ],
      "source": [
        "print(\"Recall: \",round(recall_score(Y_test, Y_pred, pos_label='ripe')*100,1), \"%\")\n",
        "print(\"Precision: \",round(precision_score(Y_test, Y_pred, pos_label='ripe')*100,1), \"%\")\n",
        "print(\"F1-Score: \",round(f1_score(Y_test, Y_pred, pos_label='ripe')*100,1), \"%\")\n",
        "print(\"Accuracy:\",round(metrics.accuracy_score(Y_test, Y_pred)*100,1), \"%\")"
      ]
    }
  ],
  "metadata": {
    "colab": {
      "name": "Akurasi-kNN-PCD-Training.ipynb",
      "provenance": []
    },
    "kernelspec": {
      "display_name": "Python 3",
      "name": "python3"
    },
    "language_info": {
      "codemirror_mode": {
        "name": "ipython",
        "version": 3
      },
      "file_extension": ".py",
      "mimetype": "text/x-python",
      "name": "python",
      "nbconvert_exporter": "python",
      "pygments_lexer": "ipython3",
      "version": "3.11.2"
    }
  },
  "nbformat": 4,
  "nbformat_minor": 0
}
